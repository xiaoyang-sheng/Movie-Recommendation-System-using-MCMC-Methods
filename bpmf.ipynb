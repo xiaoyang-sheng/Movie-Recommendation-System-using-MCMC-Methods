{
 "cells": [
  {
   "cell_type": "code",
   "execution_count": 1,
   "id": "5c964bcf",
   "metadata": {},
   "outputs": [],
   "source": [
    "import random\n",
    "random.seed(42)\n",
    "import numpy as np\n",
    "import pandas as pd\n",
    "\n",
    "from scipy.stats import invwishart\n",
    "from numpy import sum, sqrt, outer, transpose\n",
    "from numpy.random import multivariate_normal\n",
    "from scipy.sparse import coo_matrix\n",
    "from numpy.linalg import inv\n",
    "from sklearn.metrics import mean_squared_error as MSE"
   ]
  },
  {
   "cell_type": "code",
   "execution_count": 2,
   "id": "c60f6ecd",
   "metadata": {},
   "outputs": [
    {
     "data": {
      "text/html": [
       "<div>\n",
       "<style scoped>\n",
       "    .dataframe tbody tr th:only-of-type {\n",
       "        vertical-align: middle;\n",
       "    }\n",
       "\n",
       "    .dataframe tbody tr th {\n",
       "        vertical-align: top;\n",
       "    }\n",
       "\n",
       "    .dataframe thead th {\n",
       "        text-align: right;\n",
       "    }\n",
       "</style>\n",
       "<table border=\"1\" class=\"dataframe\">\n",
       "  <thead>\n",
       "    <tr style=\"text-align: right;\">\n",
       "      <th></th>\n",
       "      <th>userId</th>\n",
       "      <th>movieId</th>\n",
       "      <th>rating</th>\n",
       "    </tr>\n",
       "  </thead>\n",
       "  <tbody>\n",
       "    <tr>\n",
       "      <th>count</th>\n",
       "      <td>10000.000000</td>\n",
       "      <td>10000.000000</td>\n",
       "      <td>10000.000000</td>\n",
       "    </tr>\n",
       "    <tr>\n",
       "      <th>mean</th>\n",
       "      <td>68355.960000</td>\n",
       "      <td>8891.222400</td>\n",
       "      <td>3.540800</td>\n",
       "    </tr>\n",
       "    <tr>\n",
       "      <th>std</th>\n",
       "      <td>39991.295438</td>\n",
       "      <td>19451.421605</td>\n",
       "      <td>1.060046</td>\n",
       "    </tr>\n",
       "    <tr>\n",
       "      <th>min</th>\n",
       "      <td>12.000000</td>\n",
       "      <td>1.000000</td>\n",
       "      <td>0.500000</td>\n",
       "    </tr>\n",
       "    <tr>\n",
       "      <th>25%</th>\n",
       "      <td>33698.250000</td>\n",
       "      <td>879.000000</td>\n",
       "      <td>3.000000</td>\n",
       "    </tr>\n",
       "    <tr>\n",
       "      <th>50%</th>\n",
       "      <td>68233.000000</td>\n",
       "      <td>2174.000000</td>\n",
       "      <td>4.000000</td>\n",
       "    </tr>\n",
       "    <tr>\n",
       "      <th>75%</th>\n",
       "      <td>102443.250000</td>\n",
       "      <td>4718.000000</td>\n",
       "      <td>4.000000</td>\n",
       "    </tr>\n",
       "    <tr>\n",
       "      <th>max</th>\n",
       "      <td>138486.000000</td>\n",
       "      <td>120783.000000</td>\n",
       "      <td>5.000000</td>\n",
       "    </tr>\n",
       "  </tbody>\n",
       "</table>\n",
       "</div>"
      ],
      "text/plain": [
       "              userId        movieId        rating\n",
       "count   10000.000000   10000.000000  10000.000000\n",
       "mean    68355.960000    8891.222400      3.540800\n",
       "std     39991.295438   19451.421605      1.060046\n",
       "min        12.000000       1.000000      0.500000\n",
       "25%     33698.250000     879.000000      3.000000\n",
       "50%     68233.000000    2174.000000      4.000000\n",
       "75%    102443.250000    4718.000000      4.000000\n",
       "max    138486.000000  120783.000000      5.000000"
      ]
     },
     "execution_count": 2,
     "metadata": {},
     "output_type": "execute_result"
    }
   ],
   "source": [
    "rating = pd.read_csv(\"rating.csv\")\n",
    "rating = rating.sample(10000)\n",
    "rating.describe()"
   ]
  },
  {
   "cell_type": "code",
   "execution_count": 3,
   "id": "7a987d8a",
   "metadata": {},
   "outputs": [],
   "source": [
    "# EDA\n",
    "..."
   ]
  },
  {
   "cell_type": "code",
   "execution_count": 4,
   "id": "9bb96b43",
   "metadata": {},
   "outputs": [],
   "source": [
    "rating_matrix = rating.pivot(index='userId', columns='movieId', values='rating')\n",
    "rating_matrix = rating_matrix.fillna(0)\n",
    "R = rating_matrix.to_numpy()"
   ]
  },
  {
   "cell_type": "code",
   "execution_count": 5,
   "id": "2cc274d0",
   "metadata": {},
   "outputs": [],
   "source": [
    "# hyperparams: \\Theta_0 = {\\mu_0, T_0, \\nu_0, S_0, sigma}\n",
    "# \\Theta_U = {\\mu_U, \\Sigma_U}\n",
    "# \\Theta_V = {\\mu_V, \\Sigma_V}\n",
    "\n",
    "# Sample \\Theta_U, \\Theta_V\n",
    "# Sample U, V\n",
    "# Compute R"
   ]
  },
  {
   "cell_type": "code",
   "execution_count": 6,
   "id": "c394fb7d",
   "metadata": {},
   "outputs": [],
   "source": [
    "# Initialization\n",
    "M = rating_matrix.shape[0] # number of customers/users\n",
    "N = rating_matrix.shape[1] # number of movies\n",
    "D = 10 # number of latent features\n",
    "U = np.ones((D, M))\n",
    "V = np.ones((D, N))\n",
    "\n",
    "mu_0, T_0 = np.zeros((D, 1)), np.eye(D)\n",
    "nu_0, S_0 = D, np.eye(D)\n",
    "sigma = 1"
   ]
  },
  {
   "cell_type": "code",
   "execution_count": 7,
   "id": "ce962beb",
   "metadata": {},
   "outputs": [],
   "source": [
    "nonzero_indices = R.nonzero()\n",
    "nonzero_values = R[nonzero_indices]"
   ]
  },
  {
   "cell_type": "code",
   "execution_count": 8,
   "id": "5a7da5fc",
   "metadata": {},
   "outputs": [
    {
     "name": "stdout",
     "output_type": "stream",
     "text": [
      "Iter: 0 RMSE: 6.289047926368645\n",
      "Iter: 10 RMSE: 0.9503222612858223\n",
      "Iter: 20 RMSE: 0.9612996186025389\n",
      "Iter: 30 RMSE: 0.9573116225035936\n",
      "Iter: 40 RMSE: 0.9571418937550362\n",
      "Iter: 50 RMSE: 0.9461383389462567\n",
      "Iter: 60 RMSE: 0.9474534225556884\n",
      "Iter: 70 RMSE: 0.9492083094423441\n",
      "Iter: 80 RMSE: 0.9392938877974769\n",
      "Iter: 90 RMSE: 0.9427310406324433\n"
     ]
    }
   ],
   "source": [
    "iters = 100\n",
    "\n",
    "Sigma_u, Sigma_v = np.eye(D), np.eye(D)\n",
    "\n",
    "for it in range(iters):\n",
    "    # Sample \\Theta_U\n",
    "    mu_ustar = inv(inv(T_0) + M*inv(Sigma_u))@(inv(T_0)@mu_0 + inv(Sigma_u)@sum(U, axis=1, keepdims=True))\n",
    "    T_ustar = inv(inv(T_0) + M*inv(Sigma_u))\n",
    "    mu_u = multivariate_normal(np.squeeze(np.asarray(transpose(mu_ustar))), T_ustar, 1)\n",
    "    \n",
    "    nu_ustar = nu_0 + M\n",
    "    S_ustar = S_0 + (U - transpose(mu_u))@transpose(U - transpose(mu_u))\n",
    "    inv_wishart = invwishart(nu_ustar, S_ustar)\n",
    "    Sigma_u = inv_wishart.rvs()\n",
    "    \n",
    "    # Sample \\Theta_V\n",
    "    mu_vstar = inv(inv(T_0) + N*inv(Sigma_v))@(inv(T_0)@mu_0 + inv(Sigma_v)@sum(V, axis=1, keepdims=True))\n",
    "    T_vstar = inv(inv(T_0) + N*inv(Sigma_v))\n",
    "    mu_v = multivariate_normal(np.squeeze(np.asarray(transpose(mu_vstar))), T_vstar, 1)\n",
    "    \n",
    "    nu_vstar = nu_0 + N\n",
    "    S_vstar = S_0 + (V - transpose(mu_v))@transpose(V - transpose(mu_v))\n",
    "    inv_wishart = invwishart(nu_vstar, S_vstar)\n",
    "    Sigma_v = inv_wishart.rvs()\n",
    "    \n",
    "    # Sample U\n",
    "    for i in range(M):\n",
    "        Lambda_ustar = inv(Sigma_u)\n",
    "        theta_ustar = transpose(inv(Sigma_u)@transpose(mu_u))\n",
    "        for j in range(N):\n",
    "            if R[i, j] == 0:\n",
    "                continue\n",
    "            V_j = transpose(V[:, j])\n",
    "            Lambda_ustar += outer(V_j, V_j)/sigma\n",
    "            theta_ustar += V_j*R[i, j]/sigma\n",
    "        theta_ustar = inv(Lambda_ustar)@transpose(theta_ustar)\n",
    "        U[:, i] = multivariate_normal(np.squeeze(np.asarray(transpose(theta_ustar))), inv(Lambda_ustar), 1)\n",
    "        \n",
    "    # Sample V\n",
    "    for j in range(N):\n",
    "        Lambda_vstar = inv(Sigma_v)\n",
    "        theta_vstar = transpose(inv(Sigma_v)@transpose(mu_v))\n",
    "        for i in range(M):\n",
    "            if R[i, j] == 0:\n",
    "                continue\n",
    "            U_i = transpose(U[:, i])\n",
    "            Lambda_vstar += outer(U_i, U_i)/sigma\n",
    "            theta_vstar += U_i*R[i, j]/sigma\n",
    "        theta_vstar = inv(Lambda_vstar)@transpose(theta_vstar)\n",
    "        V[:, j] = multivariate_normal(np.squeeze(np.asarray(transpose(theta_vstar))), inv(Lambda_vstar), 1)\n",
    "\n",
    "    R_star = transpose(U)@V\n",
    "    predicted_values = R_star[nonzero_indices]\n",
    "    rmse = np.sqrt(MSE(nonzero_values, predicted_values))\n",
    "    \n",
    "    if it%10 == 0:\n",
    "        print(\"Iter:\", it, \"RMSE:\", rmse)"
   ]
  },
  {
   "cell_type": "code",
   "execution_count": null,
   "id": "3ff50a8c",
   "metadata": {},
   "outputs": [],
   "source": []
  }
 ],
 "metadata": {
  "kernelspec": {
   "display_name": "Python 3 (ipykernel)",
   "language": "python",
   "name": "python3"
  },
  "language_info": {
   "codemirror_mode": {
    "name": "ipython",
    "version": 3
   },
   "file_extension": ".py",
   "mimetype": "text/x-python",
   "name": "python",
   "nbconvert_exporter": "python",
   "pygments_lexer": "ipython3",
   "version": "3.10.9"
  }
 },
 "nbformat": 4,
 "nbformat_minor": 5
}
