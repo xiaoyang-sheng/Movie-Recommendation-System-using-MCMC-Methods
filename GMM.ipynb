{
 "cells": [
  {
   "cell_type": "code",
   "execution_count": 7,
   "id": "81518418",
   "metadata": {
    "ExecuteTime": {
     "end_time": "2023-12-02T15:41:52.231071Z",
     "start_time": "2023-12-02T15:41:52.226610Z"
    }
   },
   "outputs": [],
   "source": [
    "import random\n",
    "random.seed(42)\n",
    "import numpy as np\n",
    "import pandas as pd"
   ]
  },
  {
   "cell_type": "code",
   "execution_count": 8,
   "id": "6532cfee",
   "metadata": {
    "ExecuteTime": {
     "end_time": "2023-12-02T15:42:07.298540Z",
     "start_time": "2023-12-02T15:41:53.637682Z"
    }
   },
   "outputs": [
    {
     "data": {
      "text/plain": "              userId        movieId        rating\ncount   10000.000000   10000.000000  10000.000000\nmean    69184.056000    8835.260500      3.524500\nstd     40138.638858   19676.609715      1.044777\nmin        11.000000       1.000000      0.500000\n25%     34484.250000     836.000000      3.000000\n50%     69423.500000    2108.000000      3.500000\n75%    103827.750000    4644.500000      4.000000\nmax    138483.000000  129389.000000      5.000000",
      "text/html": "<div>\n<style scoped>\n    .dataframe tbody tr th:only-of-type {\n        vertical-align: middle;\n    }\n\n    .dataframe tbody tr th {\n        vertical-align: top;\n    }\n\n    .dataframe thead th {\n        text-align: right;\n    }\n</style>\n<table border=\"1\" class=\"dataframe\">\n  <thead>\n    <tr style=\"text-align: right;\">\n      <th></th>\n      <th>userId</th>\n      <th>movieId</th>\n      <th>rating</th>\n    </tr>\n  </thead>\n  <tbody>\n    <tr>\n      <th>count</th>\n      <td>10000.000000</td>\n      <td>10000.000000</td>\n      <td>10000.000000</td>\n    </tr>\n    <tr>\n      <th>mean</th>\n      <td>69184.056000</td>\n      <td>8835.260500</td>\n      <td>3.524500</td>\n    </tr>\n    <tr>\n      <th>std</th>\n      <td>40138.638858</td>\n      <td>19676.609715</td>\n      <td>1.044777</td>\n    </tr>\n    <tr>\n      <th>min</th>\n      <td>11.000000</td>\n      <td>1.000000</td>\n      <td>0.500000</td>\n    </tr>\n    <tr>\n      <th>25%</th>\n      <td>34484.250000</td>\n      <td>836.000000</td>\n      <td>3.000000</td>\n    </tr>\n    <tr>\n      <th>50%</th>\n      <td>69423.500000</td>\n      <td>2108.000000</td>\n      <td>3.500000</td>\n    </tr>\n    <tr>\n      <th>75%</th>\n      <td>103827.750000</td>\n      <td>4644.500000</td>\n      <td>4.000000</td>\n    </tr>\n    <tr>\n      <th>max</th>\n      <td>138483.000000</td>\n      <td>129389.000000</td>\n      <td>5.000000</td>\n    </tr>\n  </tbody>\n</table>\n</div>"
     },
     "execution_count": 8,
     "metadata": {},
     "output_type": "execute_result"
    }
   ],
   "source": [
    "rating = pd.read_csv(\"rating.csv\")\n",
    "rating = rating.sample(10000)\n",
    "rating.describe()"
   ]
  },
  {
   "cell_type": "code",
   "execution_count": 3,
   "id": "b1aa215f",
   "metadata": {
    "ExecuteTime": {
     "end_time": "2023-12-02T15:38:30.837677Z",
     "start_time": "2023-12-02T15:38:30.795662Z"
    }
   },
   "outputs": [
    {
     "data": {
      "text/plain": "   movieId                               title  \\\n0        1                    Toy Story (1995)   \n1        2                      Jumanji (1995)   \n2        3             Grumpier Old Men (1995)   \n3        4            Waiting to Exhale (1995)   \n4        5  Father of the Bride Part II (1995)   \n\n                                        genres  \n0  Adventure|Animation|Children|Comedy|Fantasy  \n1                   Adventure|Children|Fantasy  \n2                               Comedy|Romance  \n3                         Comedy|Drama|Romance  \n4                                       Comedy  ",
      "text/html": "<div>\n<style scoped>\n    .dataframe tbody tr th:only-of-type {\n        vertical-align: middle;\n    }\n\n    .dataframe tbody tr th {\n        vertical-align: top;\n    }\n\n    .dataframe thead th {\n        text-align: right;\n    }\n</style>\n<table border=\"1\" class=\"dataframe\">\n  <thead>\n    <tr style=\"text-align: right;\">\n      <th></th>\n      <th>movieId</th>\n      <th>title</th>\n      <th>genres</th>\n    </tr>\n  </thead>\n  <tbody>\n    <tr>\n      <th>0</th>\n      <td>1</td>\n      <td>Toy Story (1995)</td>\n      <td>Adventure|Animation|Children|Comedy|Fantasy</td>\n    </tr>\n    <tr>\n      <th>1</th>\n      <td>2</td>\n      <td>Jumanji (1995)</td>\n      <td>Adventure|Children|Fantasy</td>\n    </tr>\n    <tr>\n      <th>2</th>\n      <td>3</td>\n      <td>Grumpier Old Men (1995)</td>\n      <td>Comedy|Romance</td>\n    </tr>\n    <tr>\n      <th>3</th>\n      <td>4</td>\n      <td>Waiting to Exhale (1995)</td>\n      <td>Comedy|Drama|Romance</td>\n    </tr>\n    <tr>\n      <th>4</th>\n      <td>5</td>\n      <td>Father of the Bride Part II (1995)</td>\n      <td>Comedy</td>\n    </tr>\n  </tbody>\n</table>\n</div>"
     },
     "execution_count": 3,
     "metadata": {},
     "output_type": "execute_result"
    }
   ],
   "source": [
    "movie = pd.read_csv(\"movie.csv\")\n",
    "movie.head()"
   ]
  },
  {
   "cell_type": "code",
   "execution_count": 9,
   "id": "3abd6804",
   "metadata": {
    "ExecuteTime": {
     "end_time": "2023-12-02T15:46:12.260324Z",
     "start_time": "2023-12-02T15:46:12.144806Z"
    }
   },
   "outputs": [
    {
     "data": {
      "text/plain": "   movieId  Action  Adventure  Animation  Children  Comedy  Crime  \\\n0        1       0          1          1         1       1      0   \n1        2       0          1          0         1       0      0   \n2        3       0          0          0         0       1      0   \n3        4       0          0          0         0       1      0   \n4        5       0          0          0         0       1      0   \n\n   Documentary  Drama  Fantasy  Film-Noir  Horror  IMAX  Musical  Mystery  \\\n0            0      0        1          0       0     0        0        0   \n1            0      0        1          0       0     0        0        0   \n2            0      0        0          0       0     0        0        0   \n3            0      1        0          0       0     0        0        0   \n4            0      0        0          0       0     0        0        0   \n\n   Romance  Sci-Fi  Thriller  War  Western  \n0        0       0         0    0        0  \n1        0       0         0    0        0  \n2        1       0         0    0        0  \n3        1       0         0    0        0  \n4        0       0         0    0        0  ",
      "text/html": "<div>\n<style scoped>\n    .dataframe tbody tr th:only-of-type {\n        vertical-align: middle;\n    }\n\n    .dataframe tbody tr th {\n        vertical-align: top;\n    }\n\n    .dataframe thead th {\n        text-align: right;\n    }\n</style>\n<table border=\"1\" class=\"dataframe\">\n  <thead>\n    <tr style=\"text-align: right;\">\n      <th></th>\n      <th>movieId</th>\n      <th>Action</th>\n      <th>Adventure</th>\n      <th>Animation</th>\n      <th>Children</th>\n      <th>Comedy</th>\n      <th>Crime</th>\n      <th>Documentary</th>\n      <th>Drama</th>\n      <th>Fantasy</th>\n      <th>Film-Noir</th>\n      <th>Horror</th>\n      <th>IMAX</th>\n      <th>Musical</th>\n      <th>Mystery</th>\n      <th>Romance</th>\n      <th>Sci-Fi</th>\n      <th>Thriller</th>\n      <th>War</th>\n      <th>Western</th>\n    </tr>\n  </thead>\n  <tbody>\n    <tr>\n      <th>0</th>\n      <td>1</td>\n      <td>0</td>\n      <td>1</td>\n      <td>1</td>\n      <td>1</td>\n      <td>1</td>\n      <td>0</td>\n      <td>0</td>\n      <td>0</td>\n      <td>1</td>\n      <td>0</td>\n      <td>0</td>\n      <td>0</td>\n      <td>0</td>\n      <td>0</td>\n      <td>0</td>\n      <td>0</td>\n      <td>0</td>\n      <td>0</td>\n      <td>0</td>\n    </tr>\n    <tr>\n      <th>1</th>\n      <td>2</td>\n      <td>0</td>\n      <td>1</td>\n      <td>0</td>\n      <td>1</td>\n      <td>0</td>\n      <td>0</td>\n      <td>0</td>\n      <td>0</td>\n      <td>1</td>\n      <td>0</td>\n      <td>0</td>\n      <td>0</td>\n      <td>0</td>\n      <td>0</td>\n      <td>0</td>\n      <td>0</td>\n      <td>0</td>\n      <td>0</td>\n      <td>0</td>\n    </tr>\n    <tr>\n      <th>2</th>\n      <td>3</td>\n      <td>0</td>\n      <td>0</td>\n      <td>0</td>\n      <td>0</td>\n      <td>1</td>\n      <td>0</td>\n      <td>0</td>\n      <td>0</td>\n      <td>0</td>\n      <td>0</td>\n      <td>0</td>\n      <td>0</td>\n      <td>0</td>\n      <td>0</td>\n      <td>1</td>\n      <td>0</td>\n      <td>0</td>\n      <td>0</td>\n      <td>0</td>\n    </tr>\n    <tr>\n      <th>3</th>\n      <td>4</td>\n      <td>0</td>\n      <td>0</td>\n      <td>0</td>\n      <td>0</td>\n      <td>1</td>\n      <td>0</td>\n      <td>0</td>\n      <td>1</td>\n      <td>0</td>\n      <td>0</td>\n      <td>0</td>\n      <td>0</td>\n      <td>0</td>\n      <td>0</td>\n      <td>1</td>\n      <td>0</td>\n      <td>0</td>\n      <td>0</td>\n      <td>0</td>\n    </tr>\n    <tr>\n      <th>4</th>\n      <td>5</td>\n      <td>0</td>\n      <td>0</td>\n      <td>0</td>\n      <td>0</td>\n      <td>1</td>\n      <td>0</td>\n      <td>0</td>\n      <td>0</td>\n      <td>0</td>\n      <td>0</td>\n      <td>0</td>\n      <td>0</td>\n      <td>0</td>\n      <td>0</td>\n      <td>0</td>\n      <td>0</td>\n      <td>0</td>\n      <td>0</td>\n      <td>0</td>\n    </tr>\n  </tbody>\n</table>\n</div>"
     },
     "execution_count": 9,
     "metadata": {},
     "output_type": "execute_result"
    }
   ],
   "source": [
    "genres_encoded = movie['genres'].str.get_dummies(sep='|')\n",
    "genres_encoded = genres_encoded.drop(\"(no genres listed)\", axis=1)\n",
    "movie = pd.concat([movie, genres_encoded], axis=1)\n",
    "movie = movie.drop(['title', 'genres'], axis=1)\n",
    "movie.head()"
   ]
  },
  {
   "cell_type": "code",
   "execution_count": 10,
   "id": "25817be3",
   "metadata": {
    "ExecuteTime": {
     "end_time": "2023-12-02T15:46:14.272694Z",
     "start_time": "2023-12-02T15:46:14.234634Z"
    }
   },
   "outputs": [
    {
     "data": {
      "text/plain": "        Action  Adventure  Animation  Children  Comedy  Crime  Documentary  \\\nuserId                                                                       \n11           1          1          0         0       0      0            0   \n34           1          1          0         0       0      0            0   \n35           0          0          0         0       0      1            0   \n47           0          0          0         1       0      0            0   \n73           0          0          0         0       0      0            1   \n\n        Drama  Fantasy  Film-Noir  Horror  IMAX  Musical  Mystery  Romance  \\\nuserId                                                                       \n11          0        0          0       0     0        0        0        0   \n34          0        0          0       0     0        0        0        0   \n35          0        0          0       0     0        0        0        0   \n47          1        0          0       0     0        0        0        0   \n73          0        0          0       0     0        0        0        0   \n\n        Sci-Fi  Thriller  War  Western  \nuserId                                  \n11           1         1    0        0  \n34           1         1    0        0  \n35           0         1    0        0  \n47           0         0    0        0  \n73           0         0    0        0  ",
      "text/html": "<div>\n<style scoped>\n    .dataframe tbody tr th:only-of-type {\n        vertical-align: middle;\n    }\n\n    .dataframe tbody tr th {\n        vertical-align: top;\n    }\n\n    .dataframe thead th {\n        text-align: right;\n    }\n</style>\n<table border=\"1\" class=\"dataframe\">\n  <thead>\n    <tr style=\"text-align: right;\">\n      <th></th>\n      <th>Action</th>\n      <th>Adventure</th>\n      <th>Animation</th>\n      <th>Children</th>\n      <th>Comedy</th>\n      <th>Crime</th>\n      <th>Documentary</th>\n      <th>Drama</th>\n      <th>Fantasy</th>\n      <th>Film-Noir</th>\n      <th>Horror</th>\n      <th>IMAX</th>\n      <th>Musical</th>\n      <th>Mystery</th>\n      <th>Romance</th>\n      <th>Sci-Fi</th>\n      <th>Thriller</th>\n      <th>War</th>\n      <th>Western</th>\n    </tr>\n    <tr>\n      <th>userId</th>\n      <th></th>\n      <th></th>\n      <th></th>\n      <th></th>\n      <th></th>\n      <th></th>\n      <th></th>\n      <th></th>\n      <th></th>\n      <th></th>\n      <th></th>\n      <th></th>\n      <th></th>\n      <th></th>\n      <th></th>\n      <th></th>\n      <th></th>\n      <th></th>\n      <th></th>\n    </tr>\n  </thead>\n  <tbody>\n    <tr>\n      <th>11</th>\n      <td>1</td>\n      <td>1</td>\n      <td>0</td>\n      <td>0</td>\n      <td>0</td>\n      <td>0</td>\n      <td>0</td>\n      <td>0</td>\n      <td>0</td>\n      <td>0</td>\n      <td>0</td>\n      <td>0</td>\n      <td>0</td>\n      <td>0</td>\n      <td>0</td>\n      <td>1</td>\n      <td>1</td>\n      <td>0</td>\n      <td>0</td>\n    </tr>\n    <tr>\n      <th>34</th>\n      <td>1</td>\n      <td>1</td>\n      <td>0</td>\n      <td>0</td>\n      <td>0</td>\n      <td>0</td>\n      <td>0</td>\n      <td>0</td>\n      <td>0</td>\n      <td>0</td>\n      <td>0</td>\n      <td>0</td>\n      <td>0</td>\n      <td>0</td>\n      <td>0</td>\n      <td>1</td>\n      <td>1</td>\n      <td>0</td>\n      <td>0</td>\n    </tr>\n    <tr>\n      <th>35</th>\n      <td>0</td>\n      <td>0</td>\n      <td>0</td>\n      <td>0</td>\n      <td>0</td>\n      <td>1</td>\n      <td>0</td>\n      <td>0</td>\n      <td>0</td>\n      <td>0</td>\n      <td>0</td>\n      <td>0</td>\n      <td>0</td>\n      <td>0</td>\n      <td>0</td>\n      <td>0</td>\n      <td>1</td>\n      <td>0</td>\n      <td>0</td>\n    </tr>\n    <tr>\n      <th>47</th>\n      <td>0</td>\n      <td>0</td>\n      <td>0</td>\n      <td>1</td>\n      <td>0</td>\n      <td>0</td>\n      <td>0</td>\n      <td>1</td>\n      <td>0</td>\n      <td>0</td>\n      <td>0</td>\n      <td>0</td>\n      <td>0</td>\n      <td>0</td>\n      <td>0</td>\n      <td>0</td>\n      <td>0</td>\n      <td>0</td>\n      <td>0</td>\n    </tr>\n    <tr>\n      <th>73</th>\n      <td>0</td>\n      <td>0</td>\n      <td>0</td>\n      <td>0</td>\n      <td>0</td>\n      <td>0</td>\n      <td>1</td>\n      <td>0</td>\n      <td>0</td>\n      <td>0</td>\n      <td>0</td>\n      <td>0</td>\n      <td>0</td>\n      <td>0</td>\n      <td>0</td>\n      <td>0</td>\n      <td>0</td>\n      <td>0</td>\n      <td>0</td>\n    </tr>\n  </tbody>\n</table>\n</div>"
     },
     "execution_count": 10,
     "metadata": {},
     "output_type": "execute_result"
    }
   ],
   "source": [
    "merged = pd.merge(rating[['userId', 'movieId']], movie, on='movieId')\n",
    "merged = merged.drop(\"movieId\", axis=1)\n",
    "merged = merged.groupby('userId').sum()\n",
    "merged.head()"
   ]
  },
  {
   "cell_type": "code",
   "execution_count": 11,
   "id": "619b57e8",
   "metadata": {
    "ExecuteTime": {
     "end_time": "2023-12-02T15:46:17.498376Z",
     "start_time": "2023-12-02T15:46:17.463457Z"
    }
   },
   "outputs": [
    {
     "data": {
      "text/plain": "            Action    Adventure    Animation     Children       Comedy  \\\ncount  8942.000000  8942.000000  8942.000000  8942.000000  8942.000000   \nmean      0.319615     0.248155     0.065869     0.093268     0.416462   \nstd       0.488606     0.448730     0.249864     0.295781     0.539783   \nmin       0.000000     0.000000     0.000000     0.000000     0.000000   \n25%       0.000000     0.000000     0.000000     0.000000     0.000000   \n50%       0.000000     0.000000     0.000000     0.000000     0.000000   \n75%       1.000000     0.000000     0.000000     0.000000     1.000000   \nmax       3.000000     3.000000     2.000000     2.000000     3.000000   \n\n             Crime  Documentary        Drama      Fantasy    Film-Noir  \\\ncount  8942.000000  8942.000000  8942.000000  8942.000000  8942.000000   \nmean      0.190114     0.014314     0.487587     0.118765     0.012749   \nstd       0.401151     0.118790     0.555209     0.327652     0.112195   \nmin       0.000000     0.000000     0.000000     0.000000     0.000000   \n25%       0.000000     0.000000     0.000000     0.000000     0.000000   \n50%       0.000000     0.000000     0.000000     0.000000     0.000000   \n75%       0.000000     0.000000     1.000000     0.000000     0.000000   \nmax       2.000000     1.000000     4.000000     2.000000     1.000000   \n\n            Horror         IMAX      Musical      Mystery      Romance  \\\ncount  8942.000000  8942.000000  8942.000000  8942.000000  8942.000000   \nmean      0.080072     0.029412     0.049653     0.084321     0.214270   \nstd       0.277934     0.170286     0.218267     0.280289     0.424801   \nmin       0.000000     0.000000     0.000000     0.000000     0.000000   \n25%       0.000000     0.000000     0.000000     0.000000     0.000000   \n50%       0.000000     0.000000     0.000000     0.000000     0.000000   \n75%       0.000000     0.000000     0.000000     0.000000     0.000000   \nmax       3.000000     2.000000     2.000000     2.000000     3.000000   \n\n            Sci-Fi     Thriller          War      Western  \ncount  8942.000000  8942.000000  8942.000000  8942.000000  \nmean      0.183180     0.297361     0.059606     0.025386  \nstd       0.397108     0.476763     0.240519     0.158012  \nmin       0.000000     0.000000     0.000000     0.000000  \n25%       0.000000     0.000000     0.000000     0.000000  \n50%       0.000000     0.000000     0.000000     0.000000  \n75%       0.000000     1.000000     0.000000     0.000000  \nmax       2.000000     3.000000     2.000000     2.000000  ",
      "text/html": "<div>\n<style scoped>\n    .dataframe tbody tr th:only-of-type {\n        vertical-align: middle;\n    }\n\n    .dataframe tbody tr th {\n        vertical-align: top;\n    }\n\n    .dataframe thead th {\n        text-align: right;\n    }\n</style>\n<table border=\"1\" class=\"dataframe\">\n  <thead>\n    <tr style=\"text-align: right;\">\n      <th></th>\n      <th>Action</th>\n      <th>Adventure</th>\n      <th>Animation</th>\n      <th>Children</th>\n      <th>Comedy</th>\n      <th>Crime</th>\n      <th>Documentary</th>\n      <th>Drama</th>\n      <th>Fantasy</th>\n      <th>Film-Noir</th>\n      <th>Horror</th>\n      <th>IMAX</th>\n      <th>Musical</th>\n      <th>Mystery</th>\n      <th>Romance</th>\n      <th>Sci-Fi</th>\n      <th>Thriller</th>\n      <th>War</th>\n      <th>Western</th>\n    </tr>\n  </thead>\n  <tbody>\n    <tr>\n      <th>count</th>\n      <td>8942.000000</td>\n      <td>8942.000000</td>\n      <td>8942.000000</td>\n      <td>8942.000000</td>\n      <td>8942.000000</td>\n      <td>8942.000000</td>\n      <td>8942.000000</td>\n      <td>8942.000000</td>\n      <td>8942.000000</td>\n      <td>8942.000000</td>\n      <td>8942.000000</td>\n      <td>8942.000000</td>\n      <td>8942.000000</td>\n      <td>8942.000000</td>\n      <td>8942.000000</td>\n      <td>8942.000000</td>\n      <td>8942.000000</td>\n      <td>8942.000000</td>\n      <td>8942.000000</td>\n    </tr>\n    <tr>\n      <th>mean</th>\n      <td>0.319615</td>\n      <td>0.248155</td>\n      <td>0.065869</td>\n      <td>0.093268</td>\n      <td>0.416462</td>\n      <td>0.190114</td>\n      <td>0.014314</td>\n      <td>0.487587</td>\n      <td>0.118765</td>\n      <td>0.012749</td>\n      <td>0.080072</td>\n      <td>0.029412</td>\n      <td>0.049653</td>\n      <td>0.084321</td>\n      <td>0.214270</td>\n      <td>0.183180</td>\n      <td>0.297361</td>\n      <td>0.059606</td>\n      <td>0.025386</td>\n    </tr>\n    <tr>\n      <th>std</th>\n      <td>0.488606</td>\n      <td>0.448730</td>\n      <td>0.249864</td>\n      <td>0.295781</td>\n      <td>0.539783</td>\n      <td>0.401151</td>\n      <td>0.118790</td>\n      <td>0.555209</td>\n      <td>0.327652</td>\n      <td>0.112195</td>\n      <td>0.277934</td>\n      <td>0.170286</td>\n      <td>0.218267</td>\n      <td>0.280289</td>\n      <td>0.424801</td>\n      <td>0.397108</td>\n      <td>0.476763</td>\n      <td>0.240519</td>\n      <td>0.158012</td>\n    </tr>\n    <tr>\n      <th>min</th>\n      <td>0.000000</td>\n      <td>0.000000</td>\n      <td>0.000000</td>\n      <td>0.000000</td>\n      <td>0.000000</td>\n      <td>0.000000</td>\n      <td>0.000000</td>\n      <td>0.000000</td>\n      <td>0.000000</td>\n      <td>0.000000</td>\n      <td>0.000000</td>\n      <td>0.000000</td>\n      <td>0.000000</td>\n      <td>0.000000</td>\n      <td>0.000000</td>\n      <td>0.000000</td>\n      <td>0.000000</td>\n      <td>0.000000</td>\n      <td>0.000000</td>\n    </tr>\n    <tr>\n      <th>25%</th>\n      <td>0.000000</td>\n      <td>0.000000</td>\n      <td>0.000000</td>\n      <td>0.000000</td>\n      <td>0.000000</td>\n      <td>0.000000</td>\n      <td>0.000000</td>\n      <td>0.000000</td>\n      <td>0.000000</td>\n      <td>0.000000</td>\n      <td>0.000000</td>\n      <td>0.000000</td>\n      <td>0.000000</td>\n      <td>0.000000</td>\n      <td>0.000000</td>\n      <td>0.000000</td>\n      <td>0.000000</td>\n      <td>0.000000</td>\n      <td>0.000000</td>\n    </tr>\n    <tr>\n      <th>50%</th>\n      <td>0.000000</td>\n      <td>0.000000</td>\n      <td>0.000000</td>\n      <td>0.000000</td>\n      <td>0.000000</td>\n      <td>0.000000</td>\n      <td>0.000000</td>\n      <td>0.000000</td>\n      <td>0.000000</td>\n      <td>0.000000</td>\n      <td>0.000000</td>\n      <td>0.000000</td>\n      <td>0.000000</td>\n      <td>0.000000</td>\n      <td>0.000000</td>\n      <td>0.000000</td>\n      <td>0.000000</td>\n      <td>0.000000</td>\n      <td>0.000000</td>\n    </tr>\n    <tr>\n      <th>75%</th>\n      <td>1.000000</td>\n      <td>0.000000</td>\n      <td>0.000000</td>\n      <td>0.000000</td>\n      <td>1.000000</td>\n      <td>0.000000</td>\n      <td>0.000000</td>\n      <td>1.000000</td>\n      <td>0.000000</td>\n      <td>0.000000</td>\n      <td>0.000000</td>\n      <td>0.000000</td>\n      <td>0.000000</td>\n      <td>0.000000</td>\n      <td>0.000000</td>\n      <td>0.000000</td>\n      <td>1.000000</td>\n      <td>0.000000</td>\n      <td>0.000000</td>\n    </tr>\n    <tr>\n      <th>max</th>\n      <td>3.000000</td>\n      <td>3.000000</td>\n      <td>2.000000</td>\n      <td>2.000000</td>\n      <td>3.000000</td>\n      <td>2.000000</td>\n      <td>1.000000</td>\n      <td>4.000000</td>\n      <td>2.000000</td>\n      <td>1.000000</td>\n      <td>3.000000</td>\n      <td>2.000000</td>\n      <td>2.000000</td>\n      <td>2.000000</td>\n      <td>3.000000</td>\n      <td>2.000000</td>\n      <td>3.000000</td>\n      <td>2.000000</td>\n      <td>2.000000</td>\n    </tr>\n  </tbody>\n</table>\n</div>"
     },
     "execution_count": 11,
     "metadata": {},
     "output_type": "execute_result"
    }
   ],
   "source": [
    "merged.describe()"
   ]
  },
  {
   "cell_type": "markdown",
   "id": "c94cdc53",
   "metadata": {},
   "source": [
    "### GMM Clustering (TBD)\n",
    "\n",
    "First use gridsearch cv to try several n_components and covariance type. Find the best model with least BIC score and save the model."
   ]
  },
  {
   "cell_type": "code",
   "execution_count": 18,
   "id": "6a98207b",
   "metadata": {
    "ExecuteTime": {
     "end_time": "2023-12-02T15:59:30.038352Z",
     "start_time": "2023-12-02T15:59:25.384552Z"
    }
   },
   "outputs": [
    {
     "data": {
      "text/plain": "GridSearchCV(estimator=GaussianMixture(),\n             param_grid={'covariance_type': ['spherical', 'tied', 'diag',\n                                             'full'],\n                         'n_components': range(1, 5)},\n             scoring=<function gmm_bic_score at 0x7ff6763a2560>)",
      "text/html": "<style>#sk-container-id-1 {color: black;background-color: white;}#sk-container-id-1 pre{padding: 0;}#sk-container-id-1 div.sk-toggleable {background-color: white;}#sk-container-id-1 label.sk-toggleable__label {cursor: pointer;display: block;width: 100%;margin-bottom: 0;padding: 0.3em;box-sizing: border-box;text-align: center;}#sk-container-id-1 label.sk-toggleable__label-arrow:before {content: \"▸\";float: left;margin-right: 0.25em;color: #696969;}#sk-container-id-1 label.sk-toggleable__label-arrow:hover:before {color: black;}#sk-container-id-1 div.sk-estimator:hover label.sk-toggleable__label-arrow:before {color: black;}#sk-container-id-1 div.sk-toggleable__content {max-height: 0;max-width: 0;overflow: hidden;text-align: left;background-color: #f0f8ff;}#sk-container-id-1 div.sk-toggleable__content pre {margin: 0.2em;color: black;border-radius: 0.25em;background-color: #f0f8ff;}#sk-container-id-1 input.sk-toggleable__control:checked~div.sk-toggleable__content {max-height: 200px;max-width: 100%;overflow: auto;}#sk-container-id-1 input.sk-toggleable__control:checked~label.sk-toggleable__label-arrow:before {content: \"▾\";}#sk-container-id-1 div.sk-estimator input.sk-toggleable__control:checked~label.sk-toggleable__label {background-color: #d4ebff;}#sk-container-id-1 div.sk-label input.sk-toggleable__control:checked~label.sk-toggleable__label {background-color: #d4ebff;}#sk-container-id-1 input.sk-hidden--visually {border: 0;clip: rect(1px 1px 1px 1px);clip: rect(1px, 1px, 1px, 1px);height: 1px;margin: -1px;overflow: hidden;padding: 0;position: absolute;width: 1px;}#sk-container-id-1 div.sk-estimator {font-family: monospace;background-color: #f0f8ff;border: 1px dotted black;border-radius: 0.25em;box-sizing: border-box;margin-bottom: 0.5em;}#sk-container-id-1 div.sk-estimator:hover {background-color: #d4ebff;}#sk-container-id-1 div.sk-parallel-item::after {content: \"\";width: 100%;border-bottom: 1px solid gray;flex-grow: 1;}#sk-container-id-1 div.sk-label:hover label.sk-toggleable__label {background-color: #d4ebff;}#sk-container-id-1 div.sk-serial::before {content: \"\";position: absolute;border-left: 1px solid gray;box-sizing: border-box;top: 0;bottom: 0;left: 50%;z-index: 0;}#sk-container-id-1 div.sk-serial {display: flex;flex-direction: column;align-items: center;background-color: white;padding-right: 0.2em;padding-left: 0.2em;position: relative;}#sk-container-id-1 div.sk-item {position: relative;z-index: 1;}#sk-container-id-1 div.sk-parallel {display: flex;align-items: stretch;justify-content: center;background-color: white;position: relative;}#sk-container-id-1 div.sk-item::before, #sk-container-id-1 div.sk-parallel-item::before {content: \"\";position: absolute;border-left: 1px solid gray;box-sizing: border-box;top: 0;bottom: 0;left: 50%;z-index: -1;}#sk-container-id-1 div.sk-parallel-item {display: flex;flex-direction: column;z-index: 1;position: relative;background-color: white;}#sk-container-id-1 div.sk-parallel-item:first-child::after {align-self: flex-end;width: 50%;}#sk-container-id-1 div.sk-parallel-item:last-child::after {align-self: flex-start;width: 50%;}#sk-container-id-1 div.sk-parallel-item:only-child::after {width: 0;}#sk-container-id-1 div.sk-dashed-wrapped {border: 1px dashed gray;margin: 0 0.4em 0.5em 0.4em;box-sizing: border-box;padding-bottom: 0.4em;background-color: white;}#sk-container-id-1 div.sk-label label {font-family: monospace;font-weight: bold;display: inline-block;line-height: 1.2em;}#sk-container-id-1 div.sk-label-container {text-align: center;}#sk-container-id-1 div.sk-container {/* jupyter's `normalize.less` sets `[hidden] { display: none; }` but bootstrap.min.css set `[hidden] { display: none !important; }` so we also need the `!important` here to be able to override the default hidden behavior on the sphinx rendered scikit-learn.org. See: https://github.com/scikit-learn/scikit-learn/issues/21755 */display: inline-block !important;position: relative;}#sk-container-id-1 div.sk-text-repr-fallback {display: none;}</style><div id=\"sk-container-id-1\" class=\"sk-top-container\"><div class=\"sk-text-repr-fallback\"><pre>GridSearchCV(estimator=GaussianMixture(),\n             param_grid={&#x27;covariance_type&#x27;: [&#x27;spherical&#x27;, &#x27;tied&#x27;, &#x27;diag&#x27;,\n                                             &#x27;full&#x27;],\n                         &#x27;n_components&#x27;: range(1, 5)},\n             scoring=&lt;function gmm_bic_score at 0x7ff6763a2560&gt;)</pre><b>In a Jupyter environment, please rerun this cell to show the HTML representation or trust the notebook. <br />On GitHub, the HTML representation is unable to render, please try loading this page with nbviewer.org.</b></div><div class=\"sk-container\" hidden><div class=\"sk-item sk-dashed-wrapped\"><div class=\"sk-label-container\"><div class=\"sk-label sk-toggleable\"><input class=\"sk-toggleable__control sk-hidden--visually\" id=\"sk-estimator-id-1\" type=\"checkbox\" ><label for=\"sk-estimator-id-1\" class=\"sk-toggleable__label sk-toggleable__label-arrow\">GridSearchCV</label><div class=\"sk-toggleable__content\"><pre>GridSearchCV(estimator=GaussianMixture(),\n             param_grid={&#x27;covariance_type&#x27;: [&#x27;spherical&#x27;, &#x27;tied&#x27;, &#x27;diag&#x27;,\n                                             &#x27;full&#x27;],\n                         &#x27;n_components&#x27;: range(1, 5)},\n             scoring=&lt;function gmm_bic_score at 0x7ff6763a2560&gt;)</pre></div></div></div><div class=\"sk-parallel\"><div class=\"sk-parallel-item\"><div class=\"sk-item\"><div class=\"sk-label-container\"><div class=\"sk-label sk-toggleable\"><input class=\"sk-toggleable__control sk-hidden--visually\" id=\"sk-estimator-id-2\" type=\"checkbox\" ><label for=\"sk-estimator-id-2\" class=\"sk-toggleable__label sk-toggleable__label-arrow\">estimator: GaussianMixture</label><div class=\"sk-toggleable__content\"><pre>GaussianMixture()</pre></div></div></div><div class=\"sk-serial\"><div class=\"sk-item\"><div class=\"sk-estimator sk-toggleable\"><input class=\"sk-toggleable__control sk-hidden--visually\" id=\"sk-estimator-id-3\" type=\"checkbox\" ><label for=\"sk-estimator-id-3\" class=\"sk-toggleable__label sk-toggleable__label-arrow\">GaussianMixture</label><div class=\"sk-toggleable__content\"><pre>GaussianMixture()</pre></div></div></div></div></div></div></div></div></div></div>"
     },
     "execution_count": 18,
     "metadata": {},
     "output_type": "execute_result"
    }
   ],
   "source": [
    "import matplotlib.pyplot as plt\n",
    "from sklearn.mixture import GaussianMixture\n",
    "from sklearn.model_selection import GridSearchCV\n",
    "\n",
    "\n",
    "def gmm_bic_score(estimator, X):\n",
    "    \"\"\"Callable to pass to GridSearchCV that will use the BIC score.\"\"\"\n",
    "    # Make it negative since GridSearchCV expects a score to maximize\n",
    "    return -estimator.bic(X)\n",
    "\n",
    "\n",
    "param_grid = {\n",
    "    \"n_components\": range(1, 5),\n",
    "    \"covariance_type\": [\"spherical\", \"tied\", \"diag\", \"full\"],\n",
    "}\n",
    "grid_search = GridSearchCV(\n",
    "    GaussianMixture(), param_grid=param_grid, scoring=gmm_bic_score\n",
    ")\n",
    "grid_search.fit(merged)"
   ]
  },
  {
   "cell_type": "code",
   "execution_count": 19,
   "outputs": [
    {
     "data": {
      "text/plain": "   Number of components Type of covariance     BIC score\n13                    2               full -69724.677452\n9                     2               diag -57747.752969\n7                     4               tied   4460.381114\n6                     3               tied   7257.224075\n5                     2               tied   7671.754281",
      "text/html": "<div>\n<style scoped>\n    .dataframe tbody tr th:only-of-type {\n        vertical-align: middle;\n    }\n\n    .dataframe tbody tr th {\n        vertical-align: top;\n    }\n\n    .dataframe thead th {\n        text-align: right;\n    }\n</style>\n<table border=\"1\" class=\"dataframe\">\n  <thead>\n    <tr style=\"text-align: right;\">\n      <th></th>\n      <th>Number of components</th>\n      <th>Type of covariance</th>\n      <th>BIC score</th>\n    </tr>\n  </thead>\n  <tbody>\n    <tr>\n      <th>13</th>\n      <td>2</td>\n      <td>full</td>\n      <td>-69724.677452</td>\n    </tr>\n    <tr>\n      <th>9</th>\n      <td>2</td>\n      <td>diag</td>\n      <td>-57747.752969</td>\n    </tr>\n    <tr>\n      <th>7</th>\n      <td>4</td>\n      <td>tied</td>\n      <td>4460.381114</td>\n    </tr>\n    <tr>\n      <th>6</th>\n      <td>3</td>\n      <td>tied</td>\n      <td>7257.224075</td>\n    </tr>\n    <tr>\n      <th>5</th>\n      <td>2</td>\n      <td>tied</td>\n      <td>7671.754281</td>\n    </tr>\n  </tbody>\n</table>\n</div>"
     },
     "execution_count": 19,
     "metadata": {},
     "output_type": "execute_result"
    }
   ],
   "source": [
    "import pandas as pd\n",
    "\n",
    "df = pd.DataFrame(grid_search.cv_results_)[\n",
    "    [\"param_n_components\", \"param_covariance_type\", \"mean_test_score\"]\n",
    "]\n",
    "df[\"mean_test_score\"] = -df[\"mean_test_score\"]\n",
    "df = df.rename(\n",
    "    columns={\n",
    "        \"param_n_components\": \"Number of components\",\n",
    "        \"param_covariance_type\": \"Type of covariance\",\n",
    "        \"mean_test_score\": \"BIC score\",\n",
    "    }\n",
    ")\n",
    "df.sort_values(by=\"BIC score\").head()"
   ],
   "metadata": {
    "collapsed": false,
    "ExecuteTime": {
     "end_time": "2023-12-02T15:59:35.715876Z",
     "start_time": "2023-12-02T15:59:35.702435Z"
    }
   },
   "id": "d315f638366283e1"
  },
  {
   "cell_type": "code",
   "execution_count": 20,
   "outputs": [
    {
     "data": {
      "text/plain": "<Figure size 641.611x500 with 1 Axes>",
      "image/png": "[encoded data removed]"
     },
     "metadata": {},
     "output_type": "display_data"
    }
   ],
   "source": [
    "import seaborn as sns\n",
    "\n",
    "sns.catplot(\n",
    "    data=df,\n",
    "    kind=\"bar\",\n",
    "    x=\"Number of components\",\n",
    "    y=\"BIC score\",\n",
    "    hue=\"Type of covariance\",\n",
    ")\n",
    "plt.show()"
   ],
   "metadata": {
    "collapsed": false,
    "ExecuteTime": {
     "end_time": "2023-12-02T15:59:50.882234Z",
     "start_time": "2023-12-02T15:59:50.524152Z"
    }
   },
   "id": "325f36214817306"
  },
  {
   "cell_type": "code",
   "execution_count": 25,
   "outputs": [
    {
     "name": "stdout",
     "output_type": "stream",
     "text": [
      "best means:  [[2.72173274e-01 4.69032315e-01 2.94238612e-01 4.17046892e-01\n",
      "  5.40287660e-01 9.57784309e-02 6.41610603e-02 3.46435668e-01\n",
      "  5.28326231e-01 0.00000000e+00 7.12165785e-02 1.31329670e-01\n",
      "  2.21054903e-01 5.41737014e-02 2.24515863e-01 1.64854871e-01\n",
      "  1.31868864e-01 2.25566227e-02 5.01258283e-03]\n",
      " [3.33239250e-01 1.84725257e-01 2.87893206e-04 2.87893206e-04\n",
      "  3.80902459e-01 2.17204483e-01 0.00000000e+00 5.28121076e-01\n",
      "  1.15157282e-03 1.64099127e-02 8.26144656e-02 1.43946603e-04\n",
      "  4.31839808e-04 9.29786484e-02 2.11327353e-01 1.88443076e-01\n",
      "  3.44885166e-01 7.02459421e-02 3.12364128e-02]]\n",
      "best covariances:  [[[ 2.30177161e-01  7.01935522e-02 -4.29907734e-02 -6.83957723e-02\n",
      "   -1.27824967e-02  4.56499886e-02 -1.14478264e-02 -6.00164435e-03\n",
      "    1.51025960e-02  0.00000000e+00  1.37376992e-02  5.09732567e-02\n",
      "   -4.16186801e-02  7.34853532e-03 -2.60663834e-02  5.13134294e-02\n",
      "    6.13909331e-02  6.89340551e-03  1.14200034e-03]\n",
      "  [ 7.01935522e-02  2.93864226e-01  5.34732467e-02  4.09854406e-02\n",
      "    1.18180901e-02 -1.13388736e-02 -2.45797695e-02 -3.73203687e-02\n",
      "    4.84415703e-02  0.00000000e+00 -1.23500281e-02  2.46185654e-02\n",
      "   -4.05233492e-02 -2.85259383e-03 -3.52745301e-02  3.61723880e-02\n",
      "    4.31540977e-03 -1.05587760e-03  6.56486369e-04]\n",
      "  [-4.29907734e-02  5.34732467e-02  2.11673318e-01  1.28419101e-01\n",
      "    3.60159808e-02 -4.62257329e-03 -1.83774030e-02 -3.22598488e-02\n",
      "   -2.41243067e-02  0.00000000e+00 -1.04282433e-02 -3.55418008e-03\n",
      "    3.97200933e-02 -4.41105420e-03  6.11995686e-03 -7.90474755e-03\n",
      "   -1.72468054e-02 -1.62444654e-03  5.30137717e-04]\n",
      "  [-6.83957723e-02  4.09854406e-02  1.28419101e-01  2.56152497e-01\n",
      "    5.03667665e-02 -1.78887324e-02 -2.57556542e-02 -2.76867384e-02\n",
      "   -2.78536314e-02  0.00000000e+00 -1.91742287e-02 -1.81787761e-02\n",
      "    2.96155027e-02 -8.55774184e-03 -1.79436420e-02 -1.36138004e-02\n",
      "   -2.89300692e-02 -4.39458657e-03  9.17067610e-04]\n",
      "  [-1.27824967e-02  1.18180901e-02  3.60159808e-02  5.03667665e-02\n",
      "    3.35383519e-01  1.29908970e-02 -2.36377469e-02 -2.51834899e-02\n",
      "    1.88156350e-02  0.00000000e+00  3.20289056e-03 -4.94016941e-02\n",
      "    6.38259281e-03 -5.13337124e-03  3.14370298e-02 -6.07537276e-03\n",
      "   -1.45290208e-02 -1.15938269e-03  8.00571332e-04]\n",
      "  [ 4.56499886e-02 -1.13388736e-02 -4.62257329e-03 -1.78887324e-02\n",
      "    1.29908970e-02  9.26210225e-02 -4.14021254e-03  2.50794724e-02\n",
      "   -7.99530330e-03  0.00000000e+00 -2.77313961e-03  1.44893975e-02\n",
      "   -7.63831810e-03  1.43982077e-02 -1.09767765e-02 -2.21776007e-03\n",
      "    2.80095392e-02  1.34837005e-03  5.22419248e-04]\n",
      "  [-1.14478264e-02 -2.45797695e-02 -1.83774030e-02 -2.57556542e-02\n",
      "   -2.36377469e-02 -4.14021254e-03  6.00454186e-02 -1.06987392e-02\n",
      "   -3.33967128e-02  0.00000000e+00 -4.06807290e-03 -7.42373432e-03\n",
      "   -1.06743090e-02 -2.97458384e-03 -1.13976261e-02 -7.06845533e-03\n",
      "   -4.95203815e-03  5.57776302e-04  1.79645654e-04]\n",
      "  [-6.00164435e-03 -3.73203687e-02 -3.22598488e-02 -2.76867384e-02\n",
      "   -2.51834899e-02  2.50794724e-02 -1.06987392e-02  2.93818126e-01\n",
      "   -5.08435997e-03  0.00000000e+00  4.51443885e-03  3.62602975e-03\n",
      "    2.61750583e-03  1.89400912e-02  4.84906909e-02 -9.54173871e-04\n",
      "    4.31522941e-02  1.22359127e-02  1.27101222e-03]\n",
      "  [ 1.51025960e-02  4.84415703e-02 -2.41243067e-02 -2.78536314e-02\n",
      "    1.88156350e-02 -7.99530330e-03 -3.33967128e-02 -5.08435997e-03\n",
      "    2.61228823e-01  0.00000000e+00  1.60090499e-02 -2.62766973e-02\n",
      "   -4.51091691e-02  6.96795066e-03  2.97548323e-02 -2.39386089e-02\n",
      "    9.52902886e-03 -3.88314956e-04 -1.14450414e-03]\n",
      "  [ 0.00000000e+00  0.00000000e+00  0.00000000e+00  0.00000000e+00\n",
      "    0.00000000e+00  0.00000000e+00  0.00000000e+00  0.00000000e+00\n",
      "    0.00000000e+00  1.00000000e-06  0.00000000e+00  0.00000000e+00\n",
      "    0.00000000e+00  0.00000000e+00  0.00000000e+00  0.00000000e+00\n",
      "    0.00000000e+00  0.00000000e+00  0.00000000e+00]\n",
      "  [ 1.37376992e-02 -1.23500281e-02 -1.04282433e-02 -1.91742287e-02\n",
      "    3.20289056e-03 -2.77313961e-03 -4.06807290e-03  4.51443885e-03\n",
      "    1.60090499e-02  0.00000000e+00  7.21609663e-02 -5.84404178e-03\n",
      "   -2.20880019e-03  8.71119579e-03 -1.95393042e-03  5.84153562e-03\n",
      "    3.37548645e-02 -1.02630644e-04 -3.56978999e-04]\n",
      "  [ 5.09732567e-02  2.46185654e-02 -3.55418008e-03 -1.81787761e-02\n",
      "   -4.94016941e-02  1.44893975e-02 -7.42373432e-03  3.62602975e-03\n",
      "   -2.62766973e-02  0.00000000e+00 -5.84404178e-03  1.16088221e-01\n",
      "   -6.47444475e-03  5.91810103e-03 -8.93400462e-03  3.44905919e-02\n",
      "    1.92735602e-02  1.54897072e-03 -1.57042567e-04]\n",
      "  [-4.16186801e-02 -4.05233492e-02  3.97200933e-02  2.96155027e-02\n",
      "    6.38259281e-03 -7.63831810e-03 -1.06743090e-02  2.61750583e-03\n",
      "   -4.51091691e-02  0.00000000e+00 -2.20880019e-03 -6.47444475e-03\n",
      "    1.74195666e-01 -7.46403775e-03  3.20747679e-02 -2.09029707e-02\n",
      "   -1.26087356e-02 -9.76185786e-04 -1.05539445e-04]\n",
      "  [ 7.34853532e-03 -2.85259383e-03 -4.41105420e-03 -8.55774184e-03\n",
      "   -5.13337124e-03  1.43982077e-02 -2.97458384e-03  1.89400912e-02\n",
      "    6.96795066e-03  0.00000000e+00  8.71119579e-03  5.91810103e-03\n",
      "   -7.46403775e-03  5.12399115e-02  3.87741220e-03  1.01548206e-02\n",
      "    1.69543798e-02 -2.19459179e-04  7.30966401e-04]\n",
      "  [-2.60663834e-02 -3.52745301e-02  6.11995686e-03 -1.79436420e-02\n",
      "    3.14370298e-02 -1.09767765e-02 -1.13976261e-02  4.84906909e-02\n",
      "    2.97548323e-02  0.00000000e+00 -1.95393042e-03 -8.93400462e-03\n",
      "    3.20747679e-02  3.87741220e-03  1.90150328e-01 -1.15453010e-02\n",
      "    8.48910020e-03  1.95329635e-03  8.79628773e-04]\n",
      "  [ 5.13134294e-02  3.61723880e-02 -7.90474755e-03 -1.36138004e-02\n",
      "   -6.07537276e-03 -2.21776007e-03 -7.06845533e-03 -9.54173871e-04\n",
      "   -2.39386089e-02  0.00000000e+00  5.84153562e-03  3.44905919e-02\n",
      "   -2.09029707e-02  1.01548206e-02 -1.15453010e-02  1.49611920e-01\n",
      "    2.84245289e-02 -7.11019432e-04  6.77426153e-04]\n",
      "  [ 6.13909331e-02  4.31540977e-03 -1.72468054e-02 -2.89300692e-02\n",
      "   -1.45290208e-02  2.80095392e-02 -4.95203815e-03  4.31522941e-02\n",
      "    9.52902886e-03  0.00000000e+00  3.37548645e-02  1.92735602e-02\n",
      "   -1.26087356e-02  1.69543798e-02  8.48910020e-03  2.84245289e-02\n",
      "    1.34530871e-01  4.54435803e-03  1.34402953e-03]\n",
      "  [ 6.89340551e-03 -1.05587760e-03 -1.62444654e-03 -4.39458657e-03\n",
      "   -1.15938269e-03  1.34837005e-03  5.57776302e-04  1.22359127e-02\n",
      "   -3.88314956e-04  0.00000000e+00 -1.02630644e-04  1.54897072e-03\n",
      "   -9.76185786e-04 -2.19459179e-04  1.95329635e-03 -7.11019432e-04\n",
      "    4.54435803e-03  2.30513381e-02  3.88191343e-04]\n",
      "  [ 1.14200034e-03  6.56486369e-04  5.30137717e-04  9.17067610e-04\n",
      "    8.00571332e-04  5.22419248e-04  1.79645654e-04  1.27101222e-03\n",
      "   -1.14450414e-03  0.00000000e+00 -3.56978999e-04 -1.57042567e-04\n",
      "   -1.05539445e-04  7.30966401e-04  8.79628773e-04  6.77426153e-04\n",
      "    1.34402953e-03  3.88191343e-04  4.98845685e-03]]\n",
      "\n",
      " [[ 2.40328938e-01  8.17109209e-02  4.80092870e-05 -9.59373158e-05\n",
      "   -5.40751827e-02  1.75745454e-02  0.00000000e+00 -5.99890727e-02\n",
      "    1.92037148e-04 -3.45317456e-03 -8.39636864e-03  9.59779449e-05\n",
      "    4.06290963e-08 -7.81958832e-03 -2.37703018e-02  6.86435825e-02\n",
      "    7.40617010e-02  6.10034851e-03  1.68231587e-03]\n",
      "  [ 8.17109209e-02  1.56732167e-01  2.34712059e-04  9.07654564e-05\n",
      "   -1.79843586e-02 -2.61603336e-02  0.00000000e+00 -4.33916196e-02\n",
      "    3.63061826e-04 -2.96339888e-04 -1.22380999e-02  1.17356030e-04\n",
      "    6.41748833e-05 -9.97817456e-03 -1.74037274e-02  5.22171135e-02\n",
      "    1.45979295e-02 -3.18783072e-03  8.48055930e-03]\n",
      "  [ 4.80092870e-05  2.34712059e-04  2.88810323e-04  1.43863720e-04\n",
      "    3.42873728e-05  8.14149080e-05  0.00000000e+00 -8.09586685e-06\n",
      "    1.43615073e-04  2.83168903e-04 -2.37841433e-05  1.43905162e-04\n",
      "   -1.24323747e-07  1.17178682e-04  2.27053496e-04 -5.42514812e-05\n",
      "    1.88603109e-04 -2.02233295e-05 -8.99275101e-06]\n",
      "  [-9.59373158e-05  9.07654564e-05  1.43863720e-04  2.88810323e-04\n",
      "    1.78233976e-04  8.14149080e-05  0.00000000e+00 -8.09586685e-06\n",
      "    1.43615073e-04  2.83168903e-04 -2.37841433e-05 -4.14412489e-08\n",
      "    1.43822279e-04 -2.67679211e-05  2.27053496e-04 -5.42514812e-05\n",
      "    4.46565067e-05 -2.02233295e-05 -8.99275101e-06]\n",
      "  [-5.40751827e-02 -1.79843586e-02  3.42873728e-05  1.78233976e-04\n",
      "    2.73016260e-01 -1.25097431e-02  0.00000000e+00 -3.62242199e-02\n",
      "   -6.79711174e-06 -4.52321688e-03 -1.17691624e-02 -5.48296150e-05\n",
      "    5.55244169e-04 -2.39217816e-02  5.96061725e-02 -3.09797448e-02\n",
      "   -7.87049514e-02 -5.74064812e-03 -8.14138043e-04]\n",
      "  [ 1.75745454e-02 -2.61603336e-02  8.14149080e-05  8.14149080e-05\n",
      "   -1.25097431e-02  1.77225026e-01  0.00000000e+00  2.31576773e-02\n",
      "    7.57499440e-04  8.23931482e-03 -4.85594825e-03  1.12680755e-04\n",
      "    3.38042266e-04  1.52046281e-02 -2.64686227e-02 -2.49634650e-02\n",
      "    6.13959704e-02 -9.78776262e-03 -5.05732965e-03]\n",
      "  [ 0.00000000e+00  0.00000000e+00  0.00000000e+00  0.00000000e+00\n",
      "    0.00000000e+00  0.00000000e+00  1.00000000e-06  0.00000000e+00\n",
      "    0.00000000e+00  0.00000000e+00  0.00000000e+00  0.00000000e+00\n",
      "    0.00000000e+00  0.00000000e+00  0.00000000e+00  0.00000000e+00\n",
      "    0.00000000e+00  0.00000000e+00  0.00000000e+00]\n",
      "  [-5.99890727e-02 -4.33916196e-02 -8.09586685e-06 -8.09586685e-06\n",
      "   -3.62242199e-02  2.31576773e-02  0.00000000e+00  3.04995288e-01\n",
      "    3.99456341e-04 -3.19644986e-03 -1.68889436e-02  6.79253679e-05\n",
      "    5.98295011e-05 -9.14443528e-04  3.35049829e-02 -4.84244561e-02\n",
      "   -2.45522339e-02  2.99807543e-02  5.72513644e-05]\n",
      "  [ 1.92037148e-04  3.63061826e-04  1.43615073e-04  1.43615073e-04\n",
      "   -6.79711174e-06  7.57499440e-04  0.00000000e+00  3.99456341e-04\n",
      "    1.15124670e-03  1.13267561e-03 -9.51365733e-05  1.43780838e-04\n",
      "    2.87395911e-04  6.12661329e-04  6.20320780e-04 -2.17005925e-04\n",
      "    4.66519232e-04 -8.08933178e-05 -3.59710040e-05]\n",
      "  [-3.45317456e-03 -2.96339888e-04  2.83168903e-04  2.83168903e-04\n",
      "   -4.52321688e-03  8.23931482e-03  0.00000000e+00 -3.19644986e-03\n",
      "    1.13267561e-03  1.61416275e-02 -7.79909758e-04  1.41584452e-04\n",
      "    4.24753355e-04  7.39891787e-03 -1.02077118e-03 -1.22102859e-03\n",
      "    6.28803255e-03 -1.15272978e-03 -3.68640205e-04]\n",
      "  [-8.39636864e-03 -1.22380999e-02 -2.37841433e-05 -2.37841433e-05\n",
      "   -1.17691624e-02 -4.85594825e-03  0.00000000e+00 -1.68889436e-02\n",
      "   -9.51365733e-05 -7.79909758e-04  7.86692220e-02 -1.18920717e-05\n",
      "   -3.56762150e-05  7.99794206e-03 -1.45797899e-02  8.89191597e-03\n",
      "    1.97187241e-02 -4.50781154e-03 -2.43663295e-03]\n",
      "  [ 9.59779449e-05  1.17356030e-04  1.43905162e-04 -4.14412489e-08\n",
      "   -5.48296150e-05  1.12680755e-04  0.00000000e+00  6.79253679e-05\n",
      "    1.43780838e-04  1.41584452e-04 -1.18920717e-05  1.44925882e-04\n",
      "   -6.21618733e-08  1.30562642e-04 -3.04198546e-05 -2.71257406e-05\n",
      "    9.43015547e-05 -1.01116647e-05 -4.49637550e-06]\n",
      "  [ 4.06290963e-08  6.41748833e-05 -1.24323747e-07  1.43822279e-04\n",
      "    5.55244169e-04  3.38042266e-04  0.00000000e+00  5.98295011e-05\n",
      "    2.87395911e-04  4.24753355e-04 -3.56762150e-05 -6.21618733e-08\n",
      "    4.32653323e-04  1.03794721e-04  5.26870390e-05 -8.13772218e-05\n",
      "   -4.98854129e-06 -3.03349942e-05 -1.34891265e-05]\n",
      "  [-7.81958832e-03 -9.97817456e-03  1.17178682e-04 -2.67679211e-05\n",
      "   -2.39217816e-02  1.52046281e-02  0.00000000e+00 -9.14443528e-04\n",
      "    6.12661329e-04  7.39891787e-03  7.99794206e-03  1.30562642e-04\n",
      "    1.03794721e-04  8.60619786e-02 -9.14083038e-03  4.61286548e-04\n",
      "    4.23425801e-02 -5.37979993e-03 -1.60880002e-03]\n",
      "  [-2.37703018e-02 -1.74037274e-02  2.27053496e-04  2.27053496e-04\n",
      "    5.96061725e-02 -2.64686227e-02  0.00000000e+00  3.35049829e-02\n",
      "    6.20320780e-04 -1.02077118e-03 -1.45797899e-02 -3.04198546e-05\n",
      "    5.26870390e-05 -9.14083038e-03  1.77608881e-01 -2.71280372e-02\n",
      "   -3.20028694e-02  6.17131496e-03 -1.27508414e-03]\n",
      "  [ 6.86435825e-02  5.22171135e-02 -5.42514812e-05 -5.42514812e-05\n",
      "   -3.09797448e-02 -2.49634650e-02  0.00000000e+00 -4.84244561e-02\n",
      "   -2.17005925e-04 -1.22102859e-03  8.89191597e-03 -2.71257406e-05\n",
      "   -8.13772218e-05  4.61286548e-04 -2.71280372e-02  1.59870582e-01\n",
      "    2.82752860e-02 -1.03584294e-02 -2.14367404e-03]\n",
      "  [ 7.40617010e-02  1.45979295e-02  1.88603109e-04  4.46565067e-05\n",
      "   -7.87049514e-02  6.13959704e-02  0.00000000e+00 -2.45522339e-02\n",
      "    4.66519232e-04  6.28803255e-03  1.97187241e-02  9.43015547e-05\n",
      "   -4.98854129e-06  4.23425801e-02 -3.20028694e-02  2.82752860e-02\n",
      "    2.43789746e-01 -1.32868416e-02 -7.89404336e-03]\n",
      "  [ 6.10034851e-03 -3.18783072e-03 -2.02233295e-05 -2.02233295e-05\n",
      "   -5.74064812e-03 -9.78776262e-03  0.00000000e+00  2.99807543e-02\n",
      "   -8.08933178e-05 -1.15272978e-03 -4.50781154e-03 -1.01116647e-05\n",
      "   -3.03349942e-05 -5.37979993e-03  6.17131496e-03 -1.03584294e-02\n",
      "   -1.32868416e-02  6.73277022e-02  3.96807603e-04]\n",
      "  [ 1.68231587e-03  8.48055930e-03 -8.99275101e-06 -8.99275101e-06\n",
      "   -8.14138043e-04 -5.05732965e-03  0.00000000e+00  5.72513644e-05\n",
      "   -3.59710040e-05 -3.68640205e-04 -2.43663295e-03 -4.49637550e-06\n",
      "   -1.34891265e-05 -1.60880002e-03 -1.27508414e-03 -2.14367404e-03\n",
      "   -7.89404336e-03  3.96807603e-04  3.05495925e-02]]]\n",
      "best weights:  [0.22310216 0.77689784]\n",
      "best covariance type and n_components:  {'covariance_type': 'full', 'n_components': 2}\n"
     ]
    }
   ],
   "source": [
    "print('best means: ',grid_search.best_estimator_.means_)\n",
    "print('best covariances: ',grid_search.best_estimator_.covariances_)\n",
    "print('best weights: ', grid_search.best_estimator_.weights_)\n",
    "print('best covariance type and n_components: ', grid_search.best_params_)"
   ],
   "metadata": {
    "collapsed": false,
    "ExecuteTime": {
     "end_time": "2023-12-02T16:05:38.495547Z",
     "start_time": "2023-12-02T16:05:38.490758Z"
    }
   },
   "id": "90dd44ad9eb88c50"
  },
  {
   "cell_type": "code",
   "execution_count": 29,
   "outputs": [
    {
     "name": "stdout",
     "output_type": "stream",
     "text": [
      "best covariance type and n_components:  full\n"
     ]
    }
   ],
   "source": [
    "print('best covariance type and n_components: ', grid_search.best_params_['covariance_type'])"
   ],
   "metadata": {
    "collapsed": false,
    "ExecuteTime": {
     "end_time": "2023-12-02T16:07:54.198664Z",
     "start_time": "2023-12-02T16:07:54.194192Z"
    }
   },
   "id": "12db5f6d65af146"
  },
  {
   "cell_type": "code",
   "execution_count": 30,
   "outputs": [
    {
     "name": "stderr",
     "output_type": "stream",
     "text": [
      "/Users/xiaoyangsheng/anaconda3/lib/python3.10/site-packages/sklearn/base.py:413: UserWarning: X has feature names, but GaussianMixture was fitted without feature names\n",
      "  warnings.warn(\n"
     ]
    }
   ],
   "source": [
    "# save to file\n",
    "gmm_name = 'gmm_cluster'\n",
    "np.save(gmm_name + '_weights', grid_search.best_estimator_.weights_, allow_pickle=False)\n",
    "np.save(gmm_name + '_means', grid_search.best_estimator_.means_, allow_pickle=False)\n",
    "np.save(gmm_name + '_covariances', grid_search.best_estimator_.covariances_, allow_pickle=False)\n",
    "np.save(gmm_name + '_covariances_type', grid_search.best_params_['covariance_type'], allow_pickle=False)\n",
    "\n",
    "# reload\n",
    "means = np.load(gmm_name + '_means.npy')\n",
    "covar = np.load(gmm_name + '_covariances.npy')\n",
    "loaded_gmm = GaussianMixture(n_components = len(means), covariance_type='full')\n",
    "loaded_gmm.precisions_cholesky_ = np.linalg.cholesky(np.linalg.inv(covar))\n",
    "loaded_gmm.weights_ = np.load(gmm_name + '_weights.npy')\n",
    "loaded_gmm.means_ = means\n",
    "loaded_gmm.covariances_ = covar\n",
    "loaded_gmm.covariance_type_ = np.load(gmm_name + '_covariances_type.npy')\n",
    "\n",
    "# compare performance on your data between the two GMMs (loaded and saved)\n",
    "cats2 = loaded_gmm.predict(merged)"
   ],
   "metadata": {
    "collapsed": false,
    "ExecuteTime": {
     "end_time": "2023-12-02T16:10:24.164151Z",
     "start_time": "2023-12-02T16:10:24.142729Z"
    }
   },
   "id": "b1a74e9c917d53d5"
  },
  {
   "cell_type": "code",
   "execution_count": 31,
   "outputs": [
    {
     "data": {
      "text/plain": "array([1, 1, 1, ..., 1, 0, 1])"
     },
     "execution_count": 31,
     "metadata": {},
     "output_type": "execute_result"
    }
   ],
   "source": [
    "cats2"
   ],
   "metadata": {
    "collapsed": false,
    "ExecuteTime": {
     "end_time": "2023-12-02T16:10:59.450928Z",
     "start_time": "2023-12-02T16:10:59.444870Z"
    }
   },
   "id": "642ba98868d5291d"
  }
 ],
 "metadata": {
  "kernelspec": {
   "display_name": "Python 3 (ipykernel)",
   "language": "python",
   "name": "python3"
  },
  "language_info": {
   "codemirror_mode": {
    "name": "ipython",
    "version": 3
   },
   "file_extension": ".py",
   "mimetype": "text/x-python",
   "name": "python",
   "nbconvert_exporter": "python",
   "pygments_lexer": "ipython3",
   "version": "3.10.9"
  }
 },
 "nbformat": 4,
 "nbformat_minor": 5
}
